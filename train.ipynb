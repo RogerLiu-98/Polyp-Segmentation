{
 "cells": [
  {
   "cell_type": "markdown",
   "source": [
    "## Import needed libraries"
   ],
   "metadata": {
    "collapsed": false
   }
  },
  {
   "cell_type": "code",
   "execution_count": 1,
   "outputs": [],
   "source": [
    "import numpy as np\n",
    "import pathlib, os, random\n",
    "from tqdm import tqdm\n",
    "from datetime import datetime\n",
    "from tqdm.notebook import tqdm\n",
    "import cv2\n",
    "\n",
    "import matplotlib.pyplot as plt\n",
    "%matplotlib inline\n",
    "\n",
    "import warnings\n",
    "warnings.filterwarnings('ignore')\n",
    "\n",
    "import albumentations as A\n",
    "\n",
    "from PraNet.lib.PraNet_ResNeSt import Net\n",
    "from PraNet.utils.utils import clip_gradient, adjust_lr, AvgMeter"
   ],
   "metadata": {
    "collapsed": false,
    "pycharm": {
     "name": "#%%\n"
    }
   }
  },
  {
   "cell_type": "code",
   "execution_count": 2,
   "outputs": [
    {
     "name": "stdout",
     "output_type": "stream",
     "text": [
      "cuda\n"
     ]
    }
   ],
   "source": [
    "import torch\n",
    "import torch.nn.functional as F\n",
    "import torch.utils.data as D\n",
    "import torchvision.transforms as T\n",
    "from torch.autograd import Variable\n",
    "\n",
    "DEVICE = 'cuda' if torch.cuda.is_available() else 'cpu'  # Check GPU\n",
    "print(DEVICE)"
   ],
   "metadata": {
    "collapsed": false,
    "pycharm": {
     "name": "#%%\n"
    }
   }
  },
  {
   "cell_type": "code",
   "execution_count": 3,
   "outputs": [],
   "source": [
    "def set_seeds(seed=42):\n",
    "    random.seed(seed)\n",
    "    os.environ['PYTHONHASHSEED'] = str(seed)\n",
    "    np.random.seed(seed)\n",
    "    torch.manual_seed(seed)\n",
    "    torch.cuda.manual_seed(seed)\n",
    "    torch.cuda.manual_seed_all(seed)\n",
    "    torch.backends.cudnn.deterministic = True\n",
    "\n",
    "set_seeds();"
   ],
   "metadata": {
    "collapsed": false,
    "pycharm": {
     "name": "#%%\n"
    }
   }
  },
  {
   "cell_type": "markdown",
   "source": [
    "## Hyperparameters Config"
   ],
   "metadata": {
    "collapsed": false,
    "pycharm": {
     "name": "#%% md\n"
    }
   }
  },
  {
   "cell_type": "code",
   "execution_count": 4,
   "outputs": [],
   "source": [
    "class Config:\n",
    "\n",
    "    WINDOW = 512\n",
    "\n",
    "    EPOCHS = 50  # epoch number\n",
    "\n",
    "    LR = 0.001  # learning rate\n",
    "\n",
    "    WEIGHT_DECAY = 0.005  # weight decay\n",
    "\n",
    "    BATCH_SIZE = 4 # training batch size\n",
    "\n",
    "    CLIP = 0.5  # gradient clipping margin\n",
    "\n",
    "    DECAY_RATE = 0.1  # decay rate of learning rate\n",
    "\n",
    "    DECAY_EPOCH = 10  # every n epochs decay learning rate\n",
    "\n",
    "    TRAIN_DATA_PATH = 'dataset/polyp-dataset/train'  # path to train dataset\n",
    "\n",
    "    VAL_DATA_PATH = 'dataset/polyp-dataset/val'  # path to val dataset\n",
    "\n",
    "    TEST_DATA_PATH = 'dataset/polyp-dataset/test'  # path to test dataset\n",
    "\n",
    "    OUTPUT_PATH = 'Kvasir-output'  # path to output model\n",
    "\n",
    "config = Config()"
   ],
   "metadata": {
    "collapsed": false,
    "pycharm": {
     "name": "#%%\n"
    }
   }
  },
  {
   "cell_type": "markdown",
   "source": [
    "## Load Dataset\n"
   ],
   "metadata": {
    "collapsed": false,
    "pycharm": {
     "name": "#%% md\n"
    }
   }
  },
  {
   "cell_type": "code",
   "execution_count": 5,
   "outputs": [],
   "source": [
    "class Dataset(D.Dataset):\n",
    "\n",
    "    def __init__(self, root_dir, transform, train='images', mask='masks'):\n",
    "        self.path = pathlib.Path(root_dir)\n",
    "        self.train_dir = train\n",
    "        self.mask_dir = mask\n",
    "        self.images = []\n",
    "        self.masks = []\n",
    "        self.transform = transform\n",
    "        self.as_Tensor = T.Compose([\n",
    "            T.ToTensor(),\n",
    "            T.Normalize([0.485, 0.456, 0.406],\n",
    "                        [0.229, 0.224, 0.225])\n",
    "        ])\n",
    "        self.load_image()\n",
    "\n",
    "    def load_image(self):\n",
    "        for i, filename in enumerate(tqdm(os.listdir(os.path.join(self.path, self.train_dir)))):\n",
    "            img = cv2.imread((self.path / self.train_dir / filename).as_posix())\n",
    "            img = cv2.cvtColor(img, cv2.COLOR_BGR2RGB)\n",
    "            img = cv2.resize(img, (512, 512), cv2.INTER_CUBIC)\n",
    "            msk = cv2.imread((self.path / self.mask_dir / filename).as_posix())\n",
    "            msk = cv2.cvtColor(msk, cv2.COLOR_BGR2GRAY)\n",
    "            msk = cv2.resize(msk, (512, 512), cv2.INTER_LINEAR)\n",
    "            msk = cv2.morphologyEx(msk, cv2.MORPH_CLOSE, kernel=np.ones((5, 5),np.uint8))\n",
    "            msk = cv2.medianBlur(msk, ksize=5)\n",
    "            msk = np.clip(msk / 255, 0, 1).astype(np.uint8)\n",
    "\n",
    "            self.images.append(img)\n",
    "            self.masks.append(msk)\n",
    "\n",
    "    def __getitem__(self, index):\n",
    "        img, msk = self.images[index], self.masks[index]\n",
    "        augments = self.transform(image=img, mask=msk)\n",
    "        return self.as_Tensor(augments['image']), augments['mask'][None]\n",
    "\n",
    "    def __len__(self):\n",
    "        return len(self.images)"
   ],
   "metadata": {
    "collapsed": false,
    "pycharm": {
     "name": "#%%\n"
    }
   }
  },
  {
   "cell_type": "code",
   "execution_count": 6,
   "outputs": [],
   "source": [
    "# Define\n",
    "transform = A.Compose([\n",
    "    A.HorizontalFlip(p=0.5),\n",
    "    A.VerticalFlip(p=0.5),\n",
    "    A.ShiftScaleRotate(shift_limit=0.2, scale_limit=0.2, rotate_limit=30, p=0.5),\n",
    "])"
   ],
   "metadata": {
    "collapsed": false,
    "pycharm": {
     "name": "#%%\n"
    }
   }
  },
  {
   "cell_type": "code",
   "execution_count": 7,
   "outputs": [
    {
     "data": {
      "text/plain": "  0%|          | 0/1288 [00:00<?, ?it/s]",
      "application/vnd.jupyter.widget-view+json": {
       "version_major": 2,
       "version_minor": 0,
       "model_id": "8fb4d3a92a7f4bffbfa87601bf21402a"
      }
     },
     "metadata": {},
     "output_type": "display_data"
    },
    {
     "name": "stdout",
     "output_type": "stream",
     "text": [
      "Train data size: 1288\n",
      "Validation data size: 162\n",
      "Test data size: 162\n"
     ]
    },
    {
     "data": {
      "text/plain": "  0%|          | 0/162 [00:00<?, ?it/s]",
      "application/vnd.jupyter.widget-view+json": {
       "version_major": 2,
       "version_minor": 0,
       "model_id": "5d5166f976d74c0eb25c05533bb430ac"
      }
     },
     "metadata": {},
     "output_type": "display_data"
    },
    {
     "data": {
      "text/plain": "  0%|          | 0/162 [00:00<?, ?it/s]",
      "application/vnd.jupyter.widget-view+json": {
       "version_major": 2,
       "version_minor": 0,
       "model_id": "cb05d70fcdce4c1bb4e74befcc80b41d"
      }
     },
     "metadata": {},
     "output_type": "display_data"
    }
   ],
   "source": [
    "train_dataset = Dataset(config.TRAIN_DATA_PATH, transform=transform)\n",
    "print('Train data size: {}'.format(len(train_dataset)))\n",
    "val_dataset = Dataset(config.VAL_DATA_PATH, transform=transform)\n",
    "print('Validation data size: {}'.format(len(val_dataset)))\n",
    "test_dataset = Dataset(config.TEST_DATA_PATH, transform=transform)\n",
    "print('Test data size: {}'.format(len(test_dataset)))"
   ],
   "metadata": {
    "collapsed": false,
    "pycharm": {
     "name": "#%%\n"
    }
   }
  },
  {
   "cell_type": "code",
   "execution_count": 8,
   "outputs": [],
   "source": [
    "train_loader = D.DataLoader(train_dataset, batch_size=config.BATCH_SIZE, shuffle=True, num_workers=2)\n",
    "val_loader = D.DataLoader(val_dataset, batch_size=config.BATCH_SIZE, shuffle=True, num_workers=2)\n",
    "test_loader = D.DataLoader(test_dataset, batch_size=config.BATCH_SIZE, shuffle=True, num_workers=2)"
   ],
   "metadata": {
    "collapsed": false,
    "pycharm": {
     "name": "#%%\n"
    }
   }
  },
  {
   "cell_type": "code",
   "execution_count": 9,
   "outputs": [
    {
     "name": "stderr",
     "output_type": "stream",
     "text": [
      "Clipping input data to the valid range for imshow with RGB data ([0..1] for floats or [0..255] for integers).\n",
      "Clipping input data to the valid range for imshow with RGB data ([0..1] for floats or [0..255] for integers).\n",
      "Clipping input data to the valid range for imshow with RGB data ([0..1] for floats or [0..255] for integers).\n"
     ]
    },
    {
     "data": {
      "text/plain": "<Figure size 720x1080 with 6 Axes>",
      "image/png": "[encoded data removed]"
     },
     "metadata": {
      "needs_background": "light"
     },
     "output_type": "display_data"
    }
   ],
   "source": [
    "# Show the first train image, validation image and test image\n",
    "train_img, train_msk = train_dataset[0]\n",
    "val_img, val_msk = val_dataset[0]\n",
    "test_img, test_msk = test_dataset[0]\n",
    "plt.figure(figsize=(10, 15))\n",
    "plt.subplot(321)\n",
    "plt.imshow(train_msk[0], cmap='gray')\n",
    "plt.subplot(322)\n",
    "plt.imshow(train_img.transpose(0, 2).transpose(0, 1))\n",
    "plt.subplot(323)\n",
    "plt.imshow(val_msk[0], cmap='gray')\n",
    "plt.subplot(324)\n",
    "plt.imshow(val_img.transpose(0, 2).transpose(0, 1))\n",
    "plt.subplot(325)\n",
    "plt.imshow(test_msk[0], cmap='gray')\n",
    "plt.subplot(326)\n",
    "plt.imshow(test_img.transpose(0, 2).transpose(0, 1))\n",
    "plt.show()"
   ],
   "metadata": {
    "collapsed": false,
    "pycharm": {
     "name": "#%%\n"
    }
   }
  },
  {
   "cell_type": "markdown",
   "source": [
    "## Defince Train and loss"
   ],
   "metadata": {
    "collapsed": false,
    "pycharm": {
     "name": "#%% md\n"
    }
   }
  },
  {
   "cell_type": "code",
   "execution_count": 10,
   "outputs": [],
   "source": [
    "def loss_fn(pred, mask):\n",
    "    mask = mask.type_as(pred)\n",
    "    weit = 1 + 5*torch.abs(F.avg_pool2d(mask, kernel_size=31, stride=1, padding=15) - mask)\n",
    "    wbce = F.binary_cross_entropy_with_logits(pred, mask, reduce='none')\n",
    "    wbce = (weit*wbce).sum(dim=(2, 3)) / weit.sum(dim=(2, 3))\n",
    "\n",
    "    pred = torch.sigmoid(pred)\n",
    "    inter = ((pred * mask)*weit).sum(dim=(2, 3))\n",
    "    union = ((pred + mask)*weit).sum(dim=(2, 3))\n",
    "    wiou = 1 - (inter + 1)/(union - inter+1)\n",
    "    return (wbce + wiou).mean()"
   ],
   "metadata": {
    "collapsed": false,
    "pycharm": {
     "name": "#%%\n"
    }
   }
  },
  {
   "cell_type": "code",
   "execution_count": 11,
   "outputs": [],
   "source": [
    "def train(train_loader, val_loader, model, optimizer, epoch, best_val_loss):\n",
    "    model.train()\n",
    "    # --- multi-scale training ---\n",
    "    size_rates = [0.75, 1, 1.25]\n",
    "    loss_record1, loss_record2, loss_record3, loss_record4 = AvgMeter(), AvgMeter(), AvgMeter(), AvgMeter()\n",
    "    val_loss_record1, val_loss_record2, val_loss_record3, val_loss_record4 = AvgMeter(), AvgMeter(), AvgMeter(), AvgMeter()\n",
    "    tbar = tqdm(train_loader, desc='\\r')\n",
    "    for i, pack in enumerate(tbar, start=1):\n",
    "        for rate in size_rates:\n",
    "            optimizer.zero_grad()\n",
    "            # --- data prepare ---\n",
    "            images, gts = pack\n",
    "            images = images.cuda()\n",
    "            gts = gts.float().cuda()\n",
    "            # --- rescale ---\n",
    "            trainsize = int(round(config.WINDOW * rate / 32) * 32)\n",
    "            if rate != 1:\n",
    "                images = F.upsample(images, size=(trainsize, trainsize), mode='bilinear', align_corners=True)\n",
    "                gts = F.upsample(gts, size=(trainsize, trainsize), mode='bilinear', align_corners=True)\n",
    "            # --- forward ---\n",
    "            out_4, out_3, out_2, out_1 = model(images)\n",
    "            # --- loss function ---\n",
    "            loss_4 = loss_fn(out_4, gts)\n",
    "            loss_3 = loss_fn(out_3, gts)\n",
    "            loss_2 = loss_fn(out_2, gts)\n",
    "            loss_1 = loss_fn(out_1, gts)\n",
    "            loss = 0.8 * loss_4 + 0.8 * loss_3 + 0.8 * loss_2 + 1.6 * loss_1\n",
    "            # --- backward ---\n",
    "            loss.backward()\n",
    "            clip_gradient(optimizer, config.CLIP)\n",
    "            optimizer.step()\n",
    "            # --- recording loss ---\n",
    "            if rate == 1:\n",
    "                loss_record1.update(loss_1.data, config.BATCH_SIZE)\n",
    "                loss_record2.update(loss_2.data, config.BATCH_SIZE)\n",
    "                loss_record3.update(loss_3.data, config.BATCH_SIZE)\n",
    "                loss_record4.update(loss_4.data, config.BATCH_SIZE)\n",
    "        # --- train visualization ---\n",
    "        tbar.set_description(\"{} Epoch [{}/{}, out-1: {}, out-2: {}, out-3: {}, out-4: {}\"\n",
    "                             .format(datetime.now(), epoch, config.EPOCHS, loss_record1.show(), loss_record2.show(),\n",
    "                                     loss_record3.show(), loss_record4.show()))\n",
    "    with torch.no_grad():\n",
    "        tbar = tqdm(val_loader, desc='\\r')\n",
    "        for i, val_pack in enumerate(tbar, start=1):\n",
    "            # --- data prepare ---\n",
    "            val_images, val_gts = val_pack\n",
    "            val_images = Variable(val_images).cuda()\n",
    "            val_gts = Variable(val_gts).cuda()\n",
    "\n",
    "            # --- Validation ---\n",
    "            val_out_4, val_out_3, val_out_2, val_out_1 = model(val_images)\n",
    "            val_loss_4 = loss_fn(val_out_4, val_gts)\n",
    "            val_loss_3 = loss_fn(val_out_3, val_gts)\n",
    "            val_loss_2 = loss_fn(val_out_2, val_gts)\n",
    "            val_loss_1 = loss_fn(val_out_1, val_gts)\n",
    "\n",
    "            # --- recording loss\n",
    "            val_loss_record4.update(val_loss_4.data, config.BATCH_SIZE)\n",
    "            val_loss_record3.update(val_loss_3.data, config.BATCH_SIZE)\n",
    "            val_loss_record2.update(val_loss_2.data, config.BATCH_SIZE)\n",
    "            val_loss_record1.update(val_loss_1.data, config.BATCH_SIZE)\n",
    "\n",
    "            tbar.set_description('{} Epoch [{}/{}], val-out-1: {}, val-out-2: {}, val-out-3: {}, val-out-4: {}'\n",
    "                                 .format(datetime.now(), epoch, config.EPOCHS, val_loss_record1.show(), val_loss_record2.show(),\n",
    "                                         val_loss_record3.show(), val_loss_record4.show()))\n",
    "\n",
    "        current_val_loss = val_loss_record1.show()\n",
    "        if current_val_loss < best_val_loss[-1]:\n",
    "            best_val_loss.append(current_val_loss)\n",
    "            save_path = config.OUTPUT_PATH\n",
    "            os.makedirs(save_path, exist_ok=True)\n",
    "            torch.save(model.state_dict(), os.path.join(save_path, 'model-best.pth'))\n",
    "            print('Current Best Val Loss for output 1: {}, Saving Snapshot: {}'.format(best_val_loss[-1], os.path.join(save_path, 'model-best.pth')))"
   ],
   "metadata": {
    "collapsed": false,
    "pycharm": {
     "name": "#%%\n"
    }
   }
  },
  {
   "cell_type": "markdown",
   "source": [
    "## Build Model"
   ],
   "metadata": {
    "collapsed": false,
    "pycharm": {
     "name": "#%% md\n"
    }
   }
  },
  {
   "cell_type": "code",
   "execution_count": 12,
   "outputs": [],
   "source": [
    "# torch.cuda.set_device(0)  # Set your gpu device\n",
    "# model = PraNet().cuda()  # Load model\n",
    "model = Net().cuda()"
   ],
   "metadata": {
    "collapsed": false,
    "pycharm": {
     "name": "#%%\n"
    }
   }
  },
  {
   "cell_type": "code",
   "execution_count": 13,
   "outputs": [],
   "source": [
    "params = model.parameters()  # model parameters\n",
    "optimizer = torch.optim.AdamW(params, lr=config.LR, weight_decay=config.WEIGHT_DECAY)\n",
    "# optimizer = torch.optim.SGD(params, lr=config.LR, weight_decay=config.WEIGHT_DECAY, momentum=0.9)"
   ],
   "metadata": {
    "collapsed": false,
    "pycharm": {
     "name": "#%%\n"
    }
   }
  },
  {
   "cell_type": "code",
   "execution_count": null,
   "outputs": [
    {
     "data": {
      "text/plain": "\r:   0%|          | 0/322 [00:00<?, ?it/s]",
      "application/vnd.jupyter.widget-view+json": {
       "version_major": 2,
       "version_minor": 0,
       "model_id": "88c540e8ee314c34992189552ac1f70b"
      }
     },
     "metadata": {},
     "output_type": "display_data"
    },
    {
     "data": {
      "text/plain": "\r:   0%|          | 0/41 [00:00<?, ?it/s]",
      "application/vnd.jupyter.widget-view+json": {
       "version_major": 2,
       "version_minor": 0,
       "model_id": "fb59059c009f4c33adf6ee9b191188c4"
      }
     },
     "metadata": {},
     "output_type": "display_data"
    },
    {
     "name": "stdout",
     "output_type": "stream",
     "text": [
      "Current Best Val Loss for output 1: 0.9613648653030396, Saving Snapshot: Kvasir-output/model-best.pth\n",
      "Current Best Val Loss for output 1: 0.8889021277427673, Saving Snapshot: Kvasir-output/model-best.pth\n",
      "Current Best Val Loss for output 1: 0.8888002634048462, Saving Snapshot: Kvasir-output/model-best.pth\n",
      "Current Best Val Loss for output 1: 0.7138301730155945, Saving Snapshot: Kvasir-output/model-best.pth\n",
      "Current Best Val Loss for output 1: 0.652768611907959, Saving Snapshot: Kvasir-output/model-best.pth\n",
      "Current Best Val Loss for output 1: 0.6229538321495056, Saving Snapshot: Kvasir-output/model-best.pth\n",
      "Current Best Val Loss for output 1: 0.5324435830116272, Saving Snapshot: Kvasir-output/model-best.pth\n",
      "Current Best Val Loss for output 1: 0.5119624137878418, Saving Snapshot: Kvasir-output/model-best.pth\n"
     ]
    },
    {
     "data": {
      "text/plain": "\r:   0%|          | 0/322 [00:00<?, ?it/s]",
      "application/vnd.jupyter.widget-view+json": {
       "version_major": 2,
       "version_minor": 0,
       "model_id": "f702553d57a941589849a56fbe5323ab"
      }
     },
     "metadata": {},
     "output_type": "display_data"
    },
    {
     "data": {
      "text/plain": "\r:   0%|          | 0/41 [00:00<?, ?it/s]",
      "application/vnd.jupyter.widget-view+json": {
       "version_major": 2,
       "version_minor": 0,
       "model_id": "3e18073122014f4b80acad2066bbd858"
      }
     },
     "metadata": {},
     "output_type": "display_data"
    },
    {
     "data": {
      "text/plain": "\r:   0%|          | 0/322 [00:00<?, ?it/s]",
      "application/vnd.jupyter.widget-view+json": {
       "version_major": 2,
       "version_minor": 0,
       "model_id": "99112b6980ab47e9bb0db18195448b67"
      }
     },
     "metadata": {},
     "output_type": "display_data"
    },
    {
     "data": {
      "text/plain": "\r:   0%|          | 0/41 [00:00<?, ?it/s]",
      "application/vnd.jupyter.widget-view+json": {
       "version_major": 2,
       "version_minor": 0,
       "model_id": "7b2c2b8bdb9547fd9cb7ba403bfae916"
      }
     },
     "metadata": {},
     "output_type": "display_data"
    },
    {
     "data": {
      "text/plain": "\r:   0%|          | 0/322 [00:00<?, ?it/s]",
      "application/vnd.jupyter.widget-view+json": {
       "version_major": 2,
       "version_minor": 0,
       "model_id": "0de0446379604c959cf06dd53317d35f"
      }
     },
     "metadata": {},
     "output_type": "display_data"
    },
    {
     "data": {
      "text/plain": "\r:   0%|          | 0/41 [00:00<?, ?it/s]",
      "application/vnd.jupyter.widget-view+json": {
       "version_major": 2,
       "version_minor": 0,
       "model_id": "2b454f1a010146a7adef0958be562036"
      }
     },
     "metadata": {},
     "output_type": "display_data"
    },
    {
     "data": {
      "text/plain": "\r:   0%|          | 0/322 [00:00<?, ?it/s]",
      "application/vnd.jupyter.widget-view+json": {
       "version_major": 2,
       "version_minor": 0,
       "model_id": "de62dd49cdcf48cebfe5ce0ada6df4a1"
      }
     },
     "metadata": {},
     "output_type": "display_data"
    },
    {
     "data": {
      "text/plain": "\r:   0%|          | 0/41 [00:00<?, ?it/s]",
      "application/vnd.jupyter.widget-view+json": {
       "version_major": 2,
       "version_minor": 0,
       "model_id": "3b51860b17c04ce49dc82b2ec75e16d1"
      }
     },
     "metadata": {},
     "output_type": "display_data"
    },
    {
     "data": {
      "text/plain": "\r:   0%|          | 0/322 [00:00<?, ?it/s]",
      "application/vnd.jupyter.widget-view+json": {
       "version_major": 2,
       "version_minor": 0,
       "model_id": "a86595afbe4948e390d4c1f576288afb"
      }
     },
     "metadata": {},
     "output_type": "display_data"
    },
    {
     "data": {
      "text/plain": "\r:   0%|          | 0/41 [00:00<?, ?it/s]",
      "application/vnd.jupyter.widget-view+json": {
       "version_major": 2,
       "version_minor": 0,
       "model_id": "5d80289966aa4373ae50181172bd3499"
      }
     },
     "metadata": {},
     "output_type": "display_data"
    },
    {
     "data": {
      "text/plain": "\r:   0%|          | 0/322 [00:00<?, ?it/s]",
      "application/vnd.jupyter.widget-view+json": {
       "version_major": 2,
       "version_minor": 0,
       "model_id": "ce1aba52be36418396331037847019f3"
      }
     },
     "metadata": {},
     "output_type": "display_data"
    },
    {
     "data": {
      "text/plain": "\r:   0%|          | 0/41 [00:00<?, ?it/s]",
      "application/vnd.jupyter.widget-view+json": {
       "version_major": 2,
       "version_minor": 0,
       "model_id": "245d4905fe884d77946b5fdb56ca5b37"
      }
     },
     "metadata": {},
     "output_type": "display_data"
    },
    {
     "data": {
      "text/plain": "\r:   0%|          | 0/322 [00:00<?, ?it/s]",
      "application/vnd.jupyter.widget-view+json": {
       "version_major": 2,
       "version_minor": 0,
       "model_id": "08bf16a621b34681a88abbe6a79ef743"
      }
     },
     "metadata": {},
     "output_type": "display_data"
    },
    {
     "data": {
      "text/plain": "\r:   0%|          | 0/41 [00:00<?, ?it/s]",
      "application/vnd.jupyter.widget-view+json": {
       "version_major": 2,
       "version_minor": 0,
       "model_id": "7eb78dab33e047de9e7102d02527f835"
      }
     },
     "metadata": {},
     "output_type": "display_data"
    },
    {
     "data": {
      "text/plain": "\r:   0%|          | 0/322 [00:00<?, ?it/s]",
      "application/vnd.jupyter.widget-view+json": {
       "version_major": 2,
       "version_minor": 0,
       "model_id": "1f662ff0670e42efaa380d61123b81ce"
      }
     },
     "metadata": {},
     "output_type": "display_data"
    },
    {
     "data": {
      "text/plain": "\r:   0%|          | 0/41 [00:00<?, ?it/s]",
      "application/vnd.jupyter.widget-view+json": {
       "version_major": 2,
       "version_minor": 0,
       "model_id": "7882e9b787244fdda23876e3a1868c0b"
      }
     },
     "metadata": {},
     "output_type": "display_data"
    },
    {
     "data": {
      "text/plain": "\r:   0%|          | 0/322 [00:00<?, ?it/s]",
      "application/vnd.jupyter.widget-view+json": {
       "version_major": 2,
       "version_minor": 0,
       "model_id": "3796ffc382a7477391ecdaa1bd03a723"
      }
     },
     "metadata": {},
     "output_type": "display_data"
    },
    {
     "data": {
      "text/plain": "\r:   0%|          | 0/41 [00:00<?, ?it/s]",
      "application/vnd.jupyter.widget-view+json": {
       "version_major": 2,
       "version_minor": 0,
       "model_id": "a7e4343332ef4890a144e486dde4d29e"
      }
     },
     "metadata": {},
     "output_type": "display_data"
    },
    {
     "data": {
      "text/plain": "\r:   0%|          | 0/322 [00:00<?, ?it/s]",
      "application/vnd.jupyter.widget-view+json": {
       "version_major": 2,
       "version_minor": 0,
       "model_id": "bebf052090014792ae9711744a270c23"
      }
     },
     "metadata": {},
     "output_type": "display_data"
    },
    {
     "data": {
      "text/plain": "\r:   0%|          | 0/41 [00:00<?, ?it/s]",
      "application/vnd.jupyter.widget-view+json": {
       "version_major": 2,
       "version_minor": 0,
       "model_id": "fd29c54f754e4abd884d83df7523c9cd"
      }
     },
     "metadata": {},
     "output_type": "display_data"
    },
    {
     "data": {
      "text/plain": "\r:   0%|          | 0/322 [00:00<?, ?it/s]",
      "application/vnd.jupyter.widget-view+json": {
       "version_major": 2,
       "version_minor": 0,
       "model_id": "1ebef35038cf402db9328cbdb720d1ec"
      }
     },
     "metadata": {},
     "output_type": "display_data"
    },
    {
     "data": {
      "text/plain": "\r:   0%|          | 0/41 [00:00<?, ?it/s]",
      "application/vnd.jupyter.widget-view+json": {
       "version_major": 2,
       "version_minor": 0,
       "model_id": "35418eec1946470ebc57e93b612886ec"
      }
     },
     "metadata": {},
     "output_type": "display_data"
    },
    {
     "data": {
      "text/plain": "\r:   0%|          | 0/322 [00:00<?, ?it/s]",
      "application/vnd.jupyter.widget-view+json": {
       "version_major": 2,
       "version_minor": 0,
       "model_id": "4a2716de450d4e1b812f18aa1af3c47d"
      }
     },
     "metadata": {},
     "output_type": "display_data"
    },
    {
     "data": {
      "text/plain": "\r:   0%|          | 0/41 [00:00<?, ?it/s]",
      "application/vnd.jupyter.widget-view+json": {
       "version_major": 2,
       "version_minor": 0,
       "model_id": "51418a3dab25459ca50f118ff6b26ba9"
      }
     },
     "metadata": {},
     "output_type": "display_data"
    },
    {
     "data": {
      "text/plain": "\r:   0%|          | 0/322 [00:00<?, ?it/s]",
      "application/vnd.jupyter.widget-view+json": {
       "version_major": 2,
       "version_minor": 0,
       "model_id": "7981d0304d6b4d768c1a44334ab07e23"
      }
     },
     "metadata": {},
     "output_type": "display_data"
    },
    {
     "data": {
      "text/plain": "\r:   0%|          | 0/41 [00:00<?, ?it/s]",
      "application/vnd.jupyter.widget-view+json": {
       "version_major": 2,
       "version_minor": 0,
       "model_id": "3306891b41cf49a58b66c8fcb580999f"
      }
     },
     "metadata": {},
     "output_type": "display_data"
    },
    {
     "data": {
      "text/plain": "\r:   0%|          | 0/322 [00:00<?, ?it/s]",
      "application/vnd.jupyter.widget-view+json": {
       "version_major": 2,
       "version_minor": 0,
       "model_id": "860cb1a435934d81a1cb8cd1f3a37791"
      }
     },
     "metadata": {},
     "output_type": "display_data"
    },
    {
     "data": {
      "text/plain": "\r:   0%|          | 0/41 [00:00<?, ?it/s]",
      "application/vnd.jupyter.widget-view+json": {
       "version_major": 2,
       "version_minor": 0,
       "model_id": "d0235fe56f2e48d89cf48798296f9f8d"
      }
     },
     "metadata": {},
     "output_type": "display_data"
    },
    {
     "data": {
      "text/plain": "\r:   0%|          | 0/322 [00:00<?, ?it/s]",
      "application/vnd.jupyter.widget-view+json": {
       "version_major": 2,
       "version_minor": 0,
       "model_id": "6fbcac7ae077437184ca2ccfdf4dda10"
      }
     },
     "metadata": {},
     "output_type": "display_data"
    },
    {
     "data": {
      "text/plain": "\r:   0%|          | 0/41 [00:00<?, ?it/s]",
      "application/vnd.jupyter.widget-view+json": {
       "version_major": 2,
       "version_minor": 0,
       "model_id": "21a628428974430fb2108f350576c1f9"
      }
     },
     "metadata": {},
     "output_type": "display_data"
    },
    {
     "data": {
      "text/plain": "\r:   0%|          | 0/322 [00:00<?, ?it/s]",
      "application/vnd.jupyter.widget-view+json": {
       "version_major": 2,
       "version_minor": 0,
       "model_id": "b39ef76c600f49eea359b02816d51916"
      }
     },
     "metadata": {},
     "output_type": "display_data"
    },
    {
     "data": {
      "text/plain": "\r:   0%|          | 0/41 [00:00<?, ?it/s]",
      "application/vnd.jupyter.widget-view+json": {
       "version_major": 2,
       "version_minor": 0,
       "model_id": "02af6ae3313642ba94709ab0f7457d27"
      }
     },
     "metadata": {},
     "output_type": "display_data"
    },
    {
     "data": {
      "text/plain": "\r:   0%|          | 0/322 [00:00<?, ?it/s]",
      "application/vnd.jupyter.widget-view+json": {
       "version_major": 2,
       "version_minor": 0,
       "model_id": "cd7f786af44d4bfcb7c975529e0902f5"
      }
     },
     "metadata": {},
     "output_type": "display_data"
    },
    {
     "data": {
      "text/plain": "\r:   0%|          | 0/41 [00:00<?, ?it/s]",
      "application/vnd.jupyter.widget-view+json": {
       "version_major": 2,
       "version_minor": 0,
       "model_id": "ad7dcf27940842a3ac8b523dedac5f26"
      }
     },
     "metadata": {},
     "output_type": "display_data"
    },
    {
     "data": {
      "text/plain": "\r:   0%|          | 0/322 [00:00<?, ?it/s]",
      "application/vnd.jupyter.widget-view+json": {
       "version_major": 2,
       "version_minor": 0,
       "model_id": "ad99bab89d3141b585185349f457bee1"
      }
     },
     "metadata": {},
     "output_type": "display_data"
    },
    {
     "data": {
      "text/plain": "\r:   0%|          | 0/41 [00:00<?, ?it/s]",
      "application/vnd.jupyter.widget-view+json": {
       "version_major": 2,
       "version_minor": 0,
       "model_id": "1ae6133570924f8daaf4cc8304a081b3"
      }
     },
     "metadata": {},
     "output_type": "display_data"
    },
    {
     "data": {
      "text/plain": "\r:   0%|          | 0/322 [00:00<?, ?it/s]",
      "application/vnd.jupyter.widget-view+json": {
       "version_major": 2,
       "version_minor": 0,
       "model_id": "139d29acfc14490a9581fe04ebd2918a"
      }
     },
     "metadata": {},
     "output_type": "display_data"
    },
    {
     "data": {
      "text/plain": "\r:   0%|          | 0/41 [00:00<?, ?it/s]",
      "application/vnd.jupyter.widget-view+json": {
       "version_major": 2,
       "version_minor": 0,
       "model_id": "85cdc4db9603480f8f9391be54470d35"
      }
     },
     "metadata": {},
     "output_type": "display_data"
    },
    {
     "data": {
      "text/plain": "\r:   0%|          | 0/322 [00:00<?, ?it/s]",
      "application/vnd.jupyter.widget-view+json": {
       "version_major": 2,
       "version_minor": 0,
       "model_id": "607b0d60411844518e224a97c7bebc9a"
      }
     },
     "metadata": {},
     "output_type": "display_data"
    },
    {
     "data": {
      "text/plain": "\r:   0%|          | 0/41 [00:00<?, ?it/s]",
      "application/vnd.jupyter.widget-view+json": {
       "version_major": 2,
       "version_minor": 0,
       "model_id": "96774d2261cc45c59b1e30f486151d31"
      }
     },
     "metadata": {},
     "output_type": "display_data"
    },
    {
     "data": {
      "text/plain": "\r:   0%|          | 0/322 [00:00<?, ?it/s]",
      "application/vnd.jupyter.widget-view+json": {
       "version_major": 2,
       "version_minor": 0,
       "model_id": "27a12f3599784cb0bddb88fab8fd20df"
      }
     },
     "metadata": {},
     "output_type": "display_data"
    },
    {
     "data": {
      "text/plain": "\r:   0%|          | 0/41 [00:00<?, ?it/s]",
      "application/vnd.jupyter.widget-view+json": {
       "version_major": 2,
       "version_minor": 0,
       "model_id": "25e0b750136f4846a95732905b80251d"
      }
     },
     "metadata": {},
     "output_type": "display_data"
    },
    {
     "data": {
      "text/plain": "\r:   0%|          | 0/322 [00:00<?, ?it/s]",
      "application/vnd.jupyter.widget-view+json": {
       "version_major": 2,
       "version_minor": 0,
       "model_id": "151a5bf54aaa4b62b5c1f8b02eb71c41"
      }
     },
     "metadata": {},
     "output_type": "display_data"
    },
    {
     "data": {
      "text/plain": "\r:   0%|          | 0/41 [00:00<?, ?it/s]",
      "application/vnd.jupyter.widget-view+json": {
       "version_major": 2,
       "version_minor": 0,
       "model_id": "ff0fe22f14a14d0dbcbc137fa32ab815"
      }
     },
     "metadata": {},
     "output_type": "display_data"
    },
    {
     "data": {
      "text/plain": "\r:   0%|          | 0/322 [00:00<?, ?it/s]",
      "application/vnd.jupyter.widget-view+json": {
       "version_major": 2,
       "version_minor": 0,
       "model_id": "85966f8ed90f4c5386c66c26cf64fa9d"
      }
     },
     "metadata": {},
     "output_type": "display_data"
    },
    {
     "data": {
      "text/plain": "\r:   0%|          | 0/41 [00:00<?, ?it/s]",
      "application/vnd.jupyter.widget-view+json": {
       "version_major": 2,
       "version_minor": 0,
       "model_id": "12fdfaa938cc439cbe0d9b221211f3ee"
      }
     },
     "metadata": {},
     "output_type": "display_data"
    },
    {
     "data": {
      "text/plain": "\r:   0%|          | 0/322 [00:00<?, ?it/s]",
      "application/vnd.jupyter.widget-view+json": {
       "version_major": 2,
       "version_minor": 0,
       "model_id": "019a147ac47b423f8e6660d85f5c957a"
      }
     },
     "metadata": {},
     "output_type": "display_data"
    },
    {
     "data": {
      "text/plain": "\r:   0%|          | 0/41 [00:00<?, ?it/s]",
      "application/vnd.jupyter.widget-view+json": {
       "version_major": 2,
       "version_minor": 0,
       "model_id": "3dd226b95440490981b0269eb0cda653"
      }
     },
     "metadata": {},
     "output_type": "display_data"
    },
    {
     "data": {
      "text/plain": "\r:   0%|          | 0/322 [00:00<?, ?it/s]",
      "application/vnd.jupyter.widget-view+json": {
       "version_major": 2,
       "version_minor": 0,
       "model_id": "5bd7f34bb8ab43aea630a78d0515914f"
      }
     },
     "metadata": {},
     "output_type": "display_data"
    },
    {
     "data": {
      "text/plain": "\r:   0%|          | 0/41 [00:00<?, ?it/s]",
      "application/vnd.jupyter.widget-view+json": {
       "version_major": 2,
       "version_minor": 0,
       "model_id": "89a213d8c33b4fb3a235ac6d68a22f38"
      }
     },
     "metadata": {},
     "output_type": "display_data"
    },
    {
     "data": {
      "text/plain": "\r:   0%|          | 0/322 [00:00<?, ?it/s]",
      "application/vnd.jupyter.widget-view+json": {
       "version_major": 2,
       "version_minor": 0,
       "model_id": "438afe8ff34c470da339a97bfc3edc38"
      }
     },
     "metadata": {},
     "output_type": "display_data"
    },
    {
     "data": {
      "text/plain": "\r:   0%|          | 0/41 [00:00<?, ?it/s]",
      "application/vnd.jupyter.widget-view+json": {
       "version_major": 2,
       "version_minor": 0,
       "model_id": "79f6189e4cea4d389a53e64257f5306f"
      }
     },
     "metadata": {},
     "output_type": "display_data"
    },
    {
     "data": {
      "text/plain": "\r:   0%|          | 0/322 [00:00<?, ?it/s]",
      "application/vnd.jupyter.widget-view+json": {
       "version_major": 2,
       "version_minor": 0,
       "model_id": "3adb99177aa049afbed920669f3d4553"
      }
     },
     "metadata": {},
     "output_type": "display_data"
    },
    {
     "data": {
      "text/plain": "\r:   0%|          | 0/41 [00:00<?, ?it/s]",
      "application/vnd.jupyter.widget-view+json": {
       "version_major": 2,
       "version_minor": 0,
       "model_id": "655fb3e9dc6842acb745e4837a98c054"
      }
     },
     "metadata": {},
     "output_type": "display_data"
    },
    {
     "data": {
      "text/plain": "\r:   0%|          | 0/322 [00:00<?, ?it/s]",
      "application/vnd.jupyter.widget-view+json": {
       "version_major": 2,
       "version_minor": 0,
       "model_id": "e7967996206642d6bbcb87646717ef02"
      }
     },
     "metadata": {},
     "output_type": "display_data"
    },
    {
     "data": {
      "text/plain": "\r:   0%|          | 0/41 [00:00<?, ?it/s]",
      "application/vnd.jupyter.widget-view+json": {
       "version_major": 2,
       "version_minor": 0,
       "model_id": "da3c4d6708ad4b909def51f94da907fb"
      }
     },
     "metadata": {},
     "output_type": "display_data"
    },
    {
     "data": {
      "text/plain": "\r:   0%|          | 0/322 [00:00<?, ?it/s]",
      "application/vnd.jupyter.widget-view+json": {
       "version_major": 2,
       "version_minor": 0,
       "model_id": "174dad7e967640dc984aede617bd4ef3"
      }
     },
     "metadata": {},
     "output_type": "display_data"
    },
    {
     "data": {
      "text/plain": "\r:   0%|          | 0/41 [00:00<?, ?it/s]",
      "application/vnd.jupyter.widget-view+json": {
       "version_major": 2,
       "version_minor": 0,
       "model_id": "817741430d484f71ab50e9d0288f2167"
      }
     },
     "metadata": {},
     "output_type": "display_data"
    },
    {
     "data": {
      "text/plain": "\r:   0%|          | 0/322 [00:00<?, ?it/s]",
      "application/vnd.jupyter.widget-view+json": {
       "version_major": 2,
       "version_minor": 0,
       "model_id": "dc51c1b70ebc453585d87949fa87c5ca"
      }
     },
     "metadata": {},
     "output_type": "display_data"
    }
   ],
   "source": [
    "best_val_loss = [10]\n",
    "for epoch in range(1, config.EPOCHS+1):\n",
    "    adjust_lr(optimizer, config.LR, epoch, config.DECAY_RATE, config.DECAY_EPOCH)\n",
    "    train(train_loader, val_loader, model, optimizer, epoch, best_val_loss)"
   ],
   "metadata": {
    "collapsed": false,
    "pycharm": {
     "name": "#%%\n",
     "is_executing": true
    }
   }
  },
  {
   "cell_type": "code",
   "execution_count": null,
   "outputs": [],
   "source": [
    "model.load_state_dict(torch.load('Kvasir-output/model-best.pth'))\n",
    "model = model.eval()"
   ],
   "metadata": {
    "collapsed": false,
    "pycharm": {
     "name": "#%%\n",
     "is_executing": true
    }
   }
  },
  {
   "cell_type": "code",
   "execution_count": null,
   "outputs": [],
   "source": [
    "# Randomly inference on one image\n",
    "random_index = random.randint(0, len(val_dataset)+1)\n",
    "img, gt = val_dataset[random_index]\n",
    "img = img[None]\n",
    "gt = gt\n",
    "with torch.no_grad():\n",
    "    _, _, _, pred = model(img.cuda())\n",
    "    result = pred[0].sigmoid().cpu().numpy()[0]\n",
    "    result[result >= 0.6] = 1\n",
    "    result[result < 0.6] = 0\n",
    "    result.astype(np.uint8)\n",
    "\n",
    "    plt.figure(figsize=(16, 12))\n",
    "    plt.subplot(131)\n",
    "    plt.imshow(result, cmap='gray')\n",
    "    plt.subplot(132)\n",
    "    plt.imshow(gt[0], cmap='gray')\n",
    "    plt.subplot(133)\n",
    "    plt.imshow(img[0].transpose(0, 2).transpose(0, 1))\n",
    "    plt.show()"
   ],
   "metadata": {
    "collapsed": false,
    "pycharm": {
     "name": "#%%\n",
     "is_executing": true
    }
   }
  },
  {
   "cell_type": "code",
   "execution_count": null,
   "outputs": [],
   "source": [
    "def iou(pred, mask):\n",
    "    pred, mask = pred.flatten(), mask.flatten()\n",
    "    tp = sum(pred * mask)\n",
    "    fp_fn = sum(pred != mask)\n",
    "    iou = tp / (tp + fp_fn)\n",
    "    return iou\n",
    "\n",
    "def mae(pred, mask):\n",
    "    pred, mask = pred.flatten(), mask.flatten()\n",
    "    abs_error = np.abs(pred - mask)\n",
    "    mae = np.mean(abs_error)\n",
    "    return mae\n",
    "\n",
    "def dice(pred, mask):\n",
    "    pred, mask = pred.flatten(), mask.flatten()\n",
    "    intersection = sum(pred * mask)\n",
    "    dice = (intersection * 2) / (np.sum(mask) + np.sum(pred))\n",
    "    return dice"
   ],
   "metadata": {
    "collapsed": false,
    "pycharm": {
     "name": "#%%\n",
     "is_executing": true
    }
   }
  },
  {
   "cell_type": "code",
   "execution_count": null,
   "outputs": [],
   "source": [
    "# Calculate Metrics\n",
    "Miou, Amae, Mdice = [], [], []\n",
    "with torch.no_grad():\n",
    "    tbar = tqdm(val_dataset, desc='\\r', ascii=True)\n",
    "    for pack in tbar:\n",
    "        img, gt = pack\n",
    "        img = img[None]\n",
    "        _, _, _, pred = model(img.cuda())\n",
    "        result = pred[0].sigmoid().cpu().numpy()[0]\n",
    "        result[result > 0.6] = 1\n",
    "        result[result <= 0.6] = 0\n",
    "        result.astype(np.uint8)\n",
    "\n",
    "        Miou.append(iou(result, gt[0]))\n",
    "        Amae.append(mae(result, gt[0]))\n",
    "        Mdice.append(dice(result, gt[0]))\n",
    "\n",
    "        tbar.set_description('Mean IOU: {:.4f}, Average MAE: {:.4f}, Mean DICE: {:.4f}'\n",
    "                             .format(np.mean(Miou), np.mean(Amae), np.mean(Mdice)))"
   ],
   "metadata": {
    "collapsed": false,
    "pycharm": {
     "name": "#%%\n",
     "is_executing": true
    }
   }
  }
 ],
 "metadata": {
  "kernelspec": {
   "display_name": "Python 3",
   "language": "python",
   "name": "python3"
  },
  "language_info": {
   "codemirror_mode": {
    "name": "ipython",
    "version": 2
   },
   "file_extension": ".py",
   "mimetype": "text/x-python",
   "name": "python",
   "nbconvert_exporter": "python",
   "pygments_lexer": "ipython2",
   "version": "2.7.6"
  }
 },
 "nbformat": 4,
 "nbformat_minor": 0
}